{
 "cells": [
  {
   "cell_type": "code",
   "execution_count": 2,
   "metadata": {},
   "outputs": [
    {
     "data": {
      "image/png": "[encoded data removed]",
      "text/plain": [
       "<Figure size 432x288 with 1 Axes>"
      ]
     },
     "metadata": {},
     "output_type": "display_data"
    }
   ],
   "source": [
    "# coding: utf-8\n",
    "\n",
    "import tensorflow as tf\n",
    "\n",
    "import numpy as np\n",
    "\n",
    "import matplotlib.pyplot as plt\n",
    "\n",
    "#使用numpy生成200个随机点\n",
    "\n",
    "x_data = np.linspace(-1.0,1.0,200)[:,np.newaxis]#因为网络输入是一个1个节点，测试数据有200个，所以是200行，1列的数据\n",
    "\n",
    "noise = np.random.normal(0,0.02,x_data.shape)\n",
    "\n",
    "y_data = np.square(x_data) + noise\n",
    "\n",
    "#定义两个placeholder\n",
    "\n",
    "x = tf.placeholder(tf.float32,[None,1])\n",
    "\n",
    "y = tf.placeholder(tf.float32,[None,1])\n",
    "\n",
    "#定义神经网络中间层\n",
    "\n",
    "Weights_L1 = tf.Variable(tf.random_normal([1,10]))\n",
    "\n",
    "biases_L1 = tf.Variable(tf.zeros([1,10]))\n",
    "\n",
    "Wx_plus_b_L1 = tf.matmul(x,Weights_L1) + biases_L1\n",
    "\n",
    "L1 = tf.nn.sigmoid(Wx_plus_b_L1)\n",
    "\n",
    "#定义神经网络输出层\n",
    "\n",
    "Weights_L2 = tf.Variable(tf.random_normal([10,1]))\n",
    "\n",
    "biases_L2 = tf.Variable(tf.zeros([1,1]))\n",
    "\n",
    "Wx_plus_b_L2 = tf.matmul(L1,Weights_L2) + biases_L2\n",
    "\n",
    "prediction = tf.nn.sigmoid(Wx_plus_b_L2)\n",
    "\n",
    "#二次代价函数\n",
    "\n",
    "loss = tf.reduce_mean(tf.square(y-prediction))\n",
    "\n",
    "#使用梯度下降法训练\n",
    "\n",
    "train_step = tf.train.GradientDescentOptimizer(0.1).minimize(loss)\n",
    "\n",
    "with tf.Session() as sess:\n",
    "\n",
    "    sess.run(tf.global_variables_initializer())\n",
    "    tf.train.write_graph(sess.graph, './graphs2','graph.pbtxt')\n",
    "    writer = tf.summary.FileWriter('./graphs2', sess.graph)\n",
    "\n",
    "    for _ in range(2000):\n",
    "\n",
    "        sess.run(train_step,feed_dict={x:x_data,y:y_data})\n",
    "\n",
    "    #获得预测值\n",
    "\n",
    "    prediction_value = sess.run(prediction,feed_dict={x:x_data})\n",
    "\n",
    "    #画图\n",
    "\n",
    "    plt.figure()\n",
    "\n",
    "    plt.scatter(x_data,y_data)\n",
    "\n",
    "    plt.plot(x_data,prediction_value,'r-',lw=5)\n",
    "\n",
    "    plt.show()"
   ]
  },
  {
   "cell_type": "code",
   "execution_count": null,
   "metadata": {},
   "outputs": [],
   "source": []
  }
 ],
 "metadata": {
  "kernelspec": {
   "display_name": "cputf",
   "language": "python",
   "name": "cputf"
  },
  "language_info": {
   "codemirror_mode": {
    "name": "ipython",
    "version": 3
   },
   "file_extension": ".py",
   "mimetype": "text/x-python",
   "name": "python",
   "nbconvert_exporter": "python",
   "pygments_lexer": "ipython3",
   "version": "3.5.3"
  }
 },
 "nbformat": 4,
 "nbformat_minor": 2
}

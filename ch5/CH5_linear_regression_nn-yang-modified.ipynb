{
 "cells": [
  {
   "cell_type": "code",
   "execution_count": 1,
   "metadata": {},
   "outputs": [],
   "source": [
    "import tensorflow as tf\n",
    "import numpy as np\n",
    "from sklearn.utils import shuffle\n",
    "%matplotlib inline\n",
    "import matplotlib.pyplot as plt "
   ]
  },
  {
   "cell_type": "code",
   "execution_count": 22,
   "metadata": {},
   "outputs": [
    {
     "data": {
      "text/plain": [
       "<matplotlib.collections.PathCollection at 0x21f723e6b00>"
      ]
     },
     "execution_count": 22,
     "metadata": {},
     "output_type": "execute_result"
    },
    {
     "data": {
      "image/png": "[encoded data removed]",
      "text/plain": [
       "<Figure size 432x288 with 1 Axes>"
      ]
     },
     "metadata": {
      "needs_background": "light"
     },
     "output_type": "display_data"
    }
   ],
   "source": [
    "trainsamples = 600\n",
    "testsamples = 180\n",
    "\n",
    "#Here we will represent the model, a simple imput, a hidden layer of sigmoid activation\n",
    "def model(X, hidden_weights1, hidden_bias1, ow):\n",
    "    hidden_layer = tf.nn.tanh(tf.matmul(X, hidden_weights1)+ b)*100\n",
    "    return tf.nn.tanh(tf.matmul(hidden_layer, ow))*100  \n",
    "\n",
    "dsX = np.linspace(-10, 10, trainsamples + testsamples,dtype=np.float32).transpose()\n",
    "dsY = 0.4* pow(dsX,2) +2 * dsX + np.random.randn(*dsX.shape) * 1 + 0.8 \n",
    "dsXt=dsX\n",
    "plt.figure() # Create a new figure\n",
    "plt.title('Original data')\n",
    "plt.scatter(dsX,dsY) #Plot a scatter draw of the  datapoints"
   ]
  },
  {
   "cell_type": "code",
   "execution_count": 23,
   "metadata": {},
   "outputs": [],
   "source": [
    "X = tf.placeholder(\"float\")\n",
    "Y = tf.placeholder(\"float\")\n",
    "\n",
    "hw1 = tf.Variable(tf.random_normal([1, 10], stddev=0.01)) # Create first hidden layer\n",
    "ow = tf.Variable(tf.random_normal([10, 1], stddev=0.01)) # Create output connection\n",
    "b = tf.Variable(tf.random_normal([10], stddev=0.01)) # Create bias\n",
    "\n",
    "model_y = model(X, hw1, b, ow) #\n",
    "\n",
    "cost = tf.pow(model_y-Y, 2)/(2) # Cost function\n",
    "\n",
    "train_op = tf.train.AdamOptimizer(0.0001).minimize(cost) # construct an optimizer\n",
    "\n",
    "\n"
   ]
  },
  {
   "cell_type": "code",
   "execution_count": null,
   "metadata": {
    "scrolled": true
   },
   "outputs": [],
   "source": [
    "# Launch the graph in a session\n",
    "with tf.Session() as sess:\n",
    "    tf.global_variables_initializer().run() #Initialize all variables\n",
    "    tf.train.write_graph(sess.graph, './graphs','graph.pbtxt')\n",
    "    writer = tf.summary.FileWriter('./graphs', sess.graph)\n",
    "    for i in range(1,2000):\n",
    "        \n",
    "        trainX, trainY =dsX[0:trainsamples], dsY[0:trainsamples]\n",
    "        for x1,y1 in zip (trainX, trainY):\n",
    "            sess.run(train_op, feed_dict={X: [[x1]], Y: y1})\n",
    "            \n",
    "        testX, testY = dsX[trainsamples:trainsamples + testsamples], dsY[trainsamples:trainsamples+testsamples]\n",
    "        cost1=0.\n",
    "        for x1,y1 in zip (testX, testY):\n",
    "            #print([[x1]],y1)\n",
    "            cost1 += sess.run(cost, feed_dict={X: [[x1]], Y: y1}) / testsamples       \n",
    "      #  print( \"Average cost for epoch \" + str (i) + \":\" + str(cost1))\n",
    "        dsX, dsY = shuffle (dsX, dsY) #We randomize the samples to implement a better training            \n",
    "    dsX2=tf.reshape(dsXt,[trainsamples + testsamples,1])\n",
    "    dsY2= model(dsX2, hw1, b, ow)\n",
    "#    dsY2=tf.reshape(dsY2,[1,trainsamples + testsamples])\n",
    "#    print(sess.run(dsY2))\n",
    "#    print(dsX2)\n",
    "    plt.figure() # Create a new figure\n",
    "    plt.title('Original data')\n",
    "    plt.scatter(dsX,dsY) #Plot a scatter draw of the  datapoints\n",
    "    plt.plot(sess.run(dsX2),sess.run(dsY2),'r-',lw=5)"
   ]
  },
  {
   "cell_type": "code",
   "execution_count": null,
   "metadata": {},
   "outputs": [],
   "source": []
  }
 ],
 "metadata": {
  "kernelspec": {
   "display_name": "CpuTensorflow",
   "language": "python",
   "name": "cputf"
  },
  "language_info": {
   "codemirror_mode": {
    "name": "ipython",
    "version": 3
   },
   "file_extension": ".py",
   "mimetype": "text/x-python",
   "name": "python",
   "nbconvert_exporter": "python",
   "pygments_lexer": "ipython3",
   "version": "3.5.3"
  }
 },
 "nbformat": 4,
 "nbformat_minor": 1
}

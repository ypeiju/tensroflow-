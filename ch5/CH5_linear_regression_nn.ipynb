{
 "cells": [
  {
   "cell_type": "code",
   "execution_count": 1,
   "metadata": {},
   "outputs": [
    {
     "data": {
      "text/plain": [
       "<matplotlib.collections.PathCollection at 0x1a0db2e9cc0>"
      ]
     },
     "execution_count": 1,
     "metadata": {},
     "output_type": "execute_result"
    },
    {
     "data": {
      "image/png": "[encoded data removed]",
      "text/plain": [
       "<Figure size 432x288 with 1 Axes>"
      ]
     },
     "metadata": {
      "needs_background": "light"
     },
     "output_type": "display_data"
    }
   ],
   "source": [
    "import tensorflow as tf\n",
    "import numpy as np\n",
    "from sklearn.utils import shuffle\n",
    "%matplotlib inline\n",
    "import matplotlib.pyplot as plt \n",
    "\n",
    "\n",
    "\n",
    "trainsamples = 200\n",
    "testsamples = 60\n",
    "\n",
    "#Here we will represent the model, a simple imput, a hidden layer of sigmoid activation\n",
    "def model(X, hidden_weights1, hidden_bias1, ow):\n",
    "    hidden_layer =  tf.nn.sigmoid(tf.matmul(X, hidden_weights1)+ b) \n",
    "    return tf.matmul(hidden_layer, ow)   \n",
    "\n",
    "dsX = np.linspace(-1, 1, trainsamples + testsamples).transpose()\n",
    "dsY = 0.4* pow(dsX,2) +2 * dsX + np.random.randn(*dsX.shape) * 0.22 + 0.8 \n",
    "\n",
    "plt.figure() # Create a new figure\n",
    "plt.title('Original data')\n",
    "plt.scatter(dsX,dsY) #Plot a scatter draw of the  datapoints\n"
   ]
  },
  {
   "cell_type": "code",
   "execution_count": 2,
   "metadata": {},
   "outputs": [],
   "source": [
    "X = tf.placeholder(\"float\")\n",
    "Y = tf.placeholder(\"float\")\n",
    "\n",
    "hw1 = tf.Variable(tf.random_normal([1, 10], stddev=0.01)) # Create first hidden layer\n",
    "ow = tf.Variable(tf.random_normal([10, 1], stddev=0.01)) # Create output connection\n",
    "b = tf.Variable(tf.random_normal([10], stddev=0.01)) # Create bias\n",
    "\n",
    "model_y = model(X, hw1, b, ow) #\n",
    "\n",
    "cost = tf.pow(model_y-Y, 2)/(2) # Cost function\n",
    "\n",
    "train_op = tf.train.AdamOptimizer(0.0001).minimize(cost) # construct an optimizer\n"
   ]
  },
  {
   "cell_type": "code",
   "execution_count": 9,
   "metadata": {
    "scrolled": true
   },
   "outputs": [
    {
     "name": "stdout",
     "output_type": "stream",
     "text": [
      "Average cost for epoch 1:[[1.3261766]]\n",
      "Average cost for epoch 2:[[1.282025]]\n",
      "Average cost for epoch 3:[[1.1793169]]\n",
      "Average cost for epoch 4:[[0.9269121]]\n",
      "Average cost for epoch 5:[[0.95720196]]\n",
      "Average cost for epoch 6:[[0.73990834]]\n",
      "Average cost for epoch 7:[[0.8690933]]\n",
      "Average cost for epoch 8:[[0.96007025]]\n",
      "Average cost for epoch 9:[[0.61470705]]\n"
     ]
    }
   ],
   "source": [
    "# Launch the graph in a session\n",
    "with tf.Session() as sess:\n",
    "    tf.global_variables_initializer().run() #Initialize all variables\n",
    "    \n",
    "    for i in range(1,10):\n",
    "        \n",
    "        trainX, trainY =dsX[0:trainsamples], dsY[0:trainsamples]\n",
    "        for x1,y1 in zip (trainX, trainY):\n",
    "            sess.run(train_op, feed_dict={X: [[x1]], Y: y1})\n",
    "        testX, testY = dsX[trainsamples:trainsamples + testsamples], dsY[trainsamples:trainsamples+testsamples]\n",
    "        #print(testX)\n",
    "       # print(testY)\n",
    "        cost1=0.\n",
    "        for x1,y1 in zip (testX, testY):\n",
    "            cost1 += sess.run(cost, feed_dict={X: [[x1]], Y: y1}) / testsamples       \n",
    "        print (\"Average cost for epoch \" + str (i) + \":\" + str(cost1))\n",
    "        dsX, dsY = shuffle (dsX, dsY) #We randomize the samples to implement a better training   \n",
    "            \n"
   ]
  },
  {
   "cell_type": "code",
   "execution_count": null,
   "metadata": {},
   "outputs": [],
   "source": []
  }
 ],
 "metadata": {
  "kernelspec": {
   "display_name": "CpuTensorflow",
   "language": "python",
   "name": "cputf"
  },
  "language_info": {
   "codemirror_mode": {
    "name": "ipython",
    "version": 3
   },
   "file_extension": ".py",
   "mimetype": "text/x-python",
   "name": "python",
   "nbconvert_exporter": "python",
   "pygments_lexer": "ipython3",
   "version": "3.5.3"
  }
 },
 "nbformat": 4,
 "nbformat_minor": 1
}

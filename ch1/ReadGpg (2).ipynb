{
 "cells": [
  {
   "cell_type": "code",
   "execution_count": 1,
   "metadata": {},
   "outputs": [],
   "source": [
    "import tensorflow as tf\n",
    "sess=tf.Session()"
   ]
  },
  {
   "cell_type": "code",
   "execution_count": 3,
   "metadata": {},
   "outputs": [],
   "source": [
    "files=tf.train.match_filenames_once(\"./blue_jay.jpg\")\n",
    "filename_queue=tf.train.string_input_producer(files)"
   ]
  },
  {
   "cell_type": "code",
   "execution_count": 4,
   "metadata": {},
   "outputs": [
    {
     "name": "stdout",
     "output_type": "stream",
     "text": [
      "[b'.\\\\blue_jay.jpg']\n"
     ]
    }
   ],
   "source": [
    "init = (tf.global_variables_initializer(), tf.local_variables_initializer())\n",
    "sess.run(init)\n",
    "print(sess.run(files))"
   ]
  },
  {
   "cell_type": "code",
   "execution_count": 6,
   "metadata": {},
   "outputs": [],
   "source": [
    "reader=tf.WholeFileReader()\n",
    "key,value=reader.read(filename_queue)\n",
    "image=tf.image.decode_jpeg(value)\n",
    "flipImageUpDown=tf.image.encode_jpeg(tf.image.flip_up_down(image))\n",
    "flipImageLeftRight=tf.image.encode_jpeg(tf.image.flip_left_right(image))"
   ]
  },
  {
   "cell_type": "code",
   "execution_count": 7,
   "metadata": {},
   "outputs": [],
   "source": [
    "#tf.global_variables_initializer().run(session=sess)\n",
    "#init = (tf.global_variables_initializer(), tf.local_variables_initializer())\n",
    "coord=tf.train.Coordinator()"
   ]
  },
  {
   "cell_type": "code",
   "execution_count": 8,
   "metadata": {},
   "outputs": [
    {
     "name": "stdout",
     "output_type": "stream",
     "text": [
      "WARNING:tensorflow:From <ipython-input-8-7aa4be99be6b>:1: start_queue_runners (from tensorflow.python.training.queue_runner_impl) is deprecated and will be removed in a future version.\n",
      "Instructions for updating:\n",
      "To construct input pipelines, use the `tf.data` module.\n"
     ]
    }
   ],
   "source": [
    "threads=tf.train.start_queue_runners(sess=sess,coord=coord)"
   ]
  },
  {
   "cell_type": "code",
   "execution_count": 9,
   "metadata": {},
   "outputs": [],
   "source": [
    "example=sess.run(flipImageLeftRight) \n",
    "#print(example)"
   ]
  },
  {
   "cell_type": "code",
   "execution_count": 10,
   "metadata": {},
   "outputs": [],
   "source": [
    "file=open(\"flippedUpDown.jpg\",\"wb+\")\n",
    "file.write(flipImageUpDown.eval(session=sess))\n",
    "file.close()"
   ]
  },
  {
   "cell_type": "code",
   "execution_count": 11,
   "metadata": {},
   "outputs": [],
   "source": [
    "file=open(\"flippedLeftRight.jpg\",\"wb+\")\n",
    "file.write(flipImageLeftRight.eval(session=sess))\n",
    "file.close()"
   ]
  },
  {
   "cell_type": "code",
   "execution_count": null,
   "metadata": {},
   "outputs": [],
   "source": []
  }
 ],
 "metadata": {
  "kernelspec": {
   "display_name": "CpuTensorflow",
   "language": "python",
   "name": "cputf"
  },
  "language_info": {
   "codemirror_mode": {
    "name": "ipython",
    "version": 3
   },
   "file_extension": ".py",
   "mimetype": "text/x-python",
   "name": "python",
   "nbconvert_exporter": "python",
   "pygments_lexer": "ipython3",
   "version": "3.5.3"
  }
 },
 "nbformat": 4,
 "nbformat_minor": 2
}

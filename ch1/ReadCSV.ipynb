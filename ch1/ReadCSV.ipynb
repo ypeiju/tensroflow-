{
 "cells": [
  {
   "cell_type": "code",
   "execution_count": 1,
   "metadata": {},
   "outputs": [],
   "source": [
    "import tensorflow as tf\n",
    "sess=tf.Session()"
   ]
  },
  {
   "cell_type": "code",
   "execution_count": 2,
   "metadata": {},
   "outputs": [],
   "source": [
    "files=tf.train.match_filenames_once(\"./*.csv\")\n",
    "filename_queue=tf.train.string_input_producer(files,shuffle=True)"
   ]
  },
  {
   "cell_type": "markdown",
   "metadata": {},
   "source": [
    "验证f.train.match_filenames_once文件是否正确读取？ "
   ]
  },
  {
   "cell_type": "code",
   "execution_count": 4,
   "metadata": {},
   "outputs": [
    {
     "name": "stdout",
     "output_type": "stream",
     "text": [
      "[b'.\\\\iris.csv']\n"
     ]
    }
   ],
   "source": [
    "init = (tf.global_variables_initializer(), tf.local_variables_initializer())\n",
    "sess.run(init)\n",
    "print(sess.run(files))\n"
   ]
  },
  {
   "cell_type": "code",
   "execution_count": 5,
   "metadata": {},
   "outputs": [],
   "source": [
    "reader=tf.TextLineReader(skip_header_lines=1)\n",
    "key,value=reader.read(filename_queue)"
   ]
  },
  {
   "cell_type": "code",
   "execution_count": 6,
   "metadata": {},
   "outputs": [],
   "source": [
    "record_defaults=[[0.],[0.],[0.],[0.],[\"\"]]\n",
    "col1,col2,col3,col4,col5=tf.decode_csv(value,record_defaults=record_defaults)\n",
    "features=tf.stack([col1,col2,col3,col4])"
   ]
  },
  {
   "cell_type": "markdown",
   "metadata": {},
   "source": [
    "下面的代码有问题"
   ]
  },
  {
   "cell_type": "code",
   "execution_count": 14,
   "metadata": {},
   "outputs": [],
   "source": [
    "#tf.global_variables_initializer().run(session=sess)"
   ]
  },
  {
   "cell_type": "code",
   "execution_count": 7,
   "metadata": {},
   "outputs": [],
   "source": [
    "coord=tf.train.Coordinator()"
   ]
  },
  {
   "cell_type": "code",
   "execution_count": 8,
   "metadata": {},
   "outputs": [],
   "source": [
    "threads=tf.train.start_queue_runners(sess=sess,coord=coord)"
   ]
  },
  {
   "cell_type": "code",
   "execution_count": 9,
   "metadata": {},
   "outputs": [
    {
     "name": "stdout",
     "output_type": "stream",
     "text": [
      "[array([4.9, 3. , 1.4, 0.2], dtype=float32)]\n",
      "[array([4.7, 3.2, 1.3, 0.2], dtype=float32)]\n",
      "[array([4.6, 3.1, 1.5, 0.2], dtype=float32)]\n",
      "[array([5. , 3.6, 1.4, 0.2], dtype=float32)]\n",
      "[array([5.4, 3.9, 1.7, 0.4], dtype=float32)]\n"
     ]
    }
   ],
   "source": [
    "for iteration in range(5):\n",
    "    example=sess.run([features])\n",
    "    print(example)"
   ]
  },
  {
   "cell_type": "code",
   "execution_count": 10,
   "metadata": {
    "scrolled": true
   },
   "outputs": [],
   "source": [
    "coord.request_stop()\n",
    "coord.join(threads)"
   ]
  },
  {
   "cell_type": "code",
   "execution_count": null,
   "metadata": {},
   "outputs": [],
   "source": []
  }
 ],
 "metadata": {
  "kernelspec": {
   "display_name": "CpuTensorflow",
   "language": "python",
   "name": "cputf"
  },
  "language_info": {
   "codemirror_mode": {
    "name": "ipython",
    "version": 3
   },
   "file_extension": ".py",
   "mimetype": "text/x-python",
   "name": "python",
   "nbconvert_exporter": "python",
   "pygments_lexer": "ipython3",
   "version": "3.5.3"
  }
 },
 "nbformat": 4,
 "nbformat_minor": 2
}

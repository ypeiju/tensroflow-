{
 "cells": [
  {
   "cell_type": "code",
   "execution_count": 1,
   "metadata": {},
   "outputs": [],
   "source": [
    "import tensorflow as tf\n",
    "import numpy as np\n",
    "sess=tf.Session()"
   ]
  },
  {
   "cell_type": "code",
   "execution_count": 2,
   "metadata": {},
   "outputs": [
    {
     "name": "stdout",
     "output_type": "stream",
     "text": [
      "5\n"
     ]
    }
   ],
   "source": [
    "tens1=tf.constant([[[1,2],[2,3,]],[[3,4],[5,6]]])\n",
    "print(sess.run(tens1)[1,1,0])"
   ]
  },
  {
   "cell_type": "code",
   "execution_count": 3,
   "metadata": {},
   "outputs": [
    {
     "name": "stdout",
     "output_type": "stream",
     "text": [
      "[0.72277784 0.5555583  0.9727003  0.42747948 0.8584127  0.04486032\n",
      " 0.53186893 0.00307672 0.3903728  0.6949591  0.9316994  0.49219966\n",
      " 0.53806627 0.36071035 0.6936045  0.29451767 0.29325756 0.48242182\n",
      " 0.8227579  0.08943313 0.5462339  0.6578592  0.10467882 0.5918882\n",
      " 0.974299   0.9077737  0.09806631 0.70363283 0.26283985 0.00631195\n",
      " 0.18808503 0.62087345]\n",
      "[1 2 3]\n"
     ]
    }
   ],
   "source": [
    "x=tf.constant(np.random.rand(32).astype(np.float32))\n",
    "y=tf.constant([1,2,3])\n",
    "print(sess.run(x))\n",
    "print(sess.run(y))"
   ]
  },
  {
   "cell_type": "code",
   "execution_count": 4,
   "metadata": {},
   "outputs": [
    {
     "name": "stdout",
     "output_type": "stream",
     "text": [
      "[[1. 2. 3.]\n",
      " [3. 2. 6.]]\n"
     ]
    }
   ],
   "source": [
    "x_data=np.array([[1.,2.,3.],[3.,2.,6.]])\n",
    "x=tf.convert_to_tensor(x_data,dtype=tf.float32)\n",
    "print(sess.run(x))"
   ]
  },
  {
   "cell_type": "code",
   "execution_count": 8,
   "metadata": {},
   "outputs": [
    {
     "data": {
      "text/plain": [
       "<tf.Variable 'Variable_3:0' shape=(1000,) dtype=float32_ref>"
      ]
     },
     "execution_count": 8,
     "metadata": {},
     "output_type": "execute_result"
    }
   ],
   "source": [
    "b=tf.Variable(tf.zeros([1000]))\n",
    "b\n",
    "##print(sess.run(b))"
   ]
  },
  {
   "cell_type": "code",
   "execution_count": null,
   "metadata": {},
   "outputs": [],
   "source": []
  }
 ],
 "metadata": {
  "kernelspec": {
   "display_name": "CpuTf",
   "language": "python",
   "name": "cputf"
  },
  "language_info": {
   "codemirror_mode": {
    "name": "ipython",
    "version": 3
   },
   "file_extension": ".py",
   "mimetype": "text/x-python",
   "name": "python",
   "nbconvert_exporter": "python",
   "pygments_lexer": "ipython3",
   "version": "3.5.4"
  }
 },
 "nbformat": 4,
 "nbformat_minor": 2
}

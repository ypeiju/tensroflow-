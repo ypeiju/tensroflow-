{
 "cells": [
  {
   "cell_type": "code",
   "execution_count": 21,
   "metadata": {},
   "outputs": [],
   "source": [
    "import tensorflow as tf\n",
    "import numpy as np\n",
    "from sklearn.utils import shuffle\n",
    "%matplotlib inline\n",
    "import matplotlib.pyplot as plt \n",
    "\n",
    "trainsamples = 200\n",
    "testsamples = 60"
   ]
  },
  {
   "cell_type": "code",
   "execution_count": 24,
   "metadata": {},
   "outputs": [
    {
     "name": "stdout",
     "output_type": "stream",
     "text": [
      "[[ 0.00982081 -0.00816665 -0.00169997 -0.00568855  0.01243503  0.00499466\n",
      "   0.00545036  0.00634067 -0.0029187  -0.00167344]]\n",
      "[[ 0.01986896]\n",
      " [-0.0083683 ]\n",
      " [-0.00880046]\n",
      " [-0.00126564]\n",
      " [ 0.0252823 ]\n",
      " [ 0.00357343]\n",
      " [-0.00661623]\n",
      " [ 0.00573041]\n",
      " [-0.00261217]\n",
      " [ 0.01728733]]\n",
      "[-0.00810906  0.01057669  0.00732194  0.00632785  0.00927855  0.00845715\n",
      " -0.00261463  0.00872306 -0.01831608  0.01061   ]\n"
     ]
    }
   ],
   "source": [
    "hw1 = tf.random_normal([1, 10], stddev=0.01)# Create first hidden layer\n",
    "ow = tf.random_normal([10, 1], stddev=0.01) # Create output connection\n",
    "b = tf.random_normal([10], stddev=0.01) # Create bias\n",
    "dsX = np.linspace(-1, 1, trainsamples + testsamples)\n",
    "dsY = 0.4* pow(dsX,2) +2 * dsX + np.random.randn(*dsX.shape) * 0.22 + 0.8 \n",
    "sess=tf.Session()\n",
    "#print(dsX)\n",
    "print(sess.run(hw1))\n",
    "print(sess.run(ow))\n",
    "print(sess.run(b))"
   ]
  },
  {
   "cell_type": "code",
   "execution_count": 26,
   "metadata": {},
   "outputs": [
    {
     "name": "stdout",
     "output_type": "stream",
     "text": [
      "[0.54440154 0.55212355 0.55984556 0.56756757 0.57528958 0.58301158\n",
      " 0.59073359 0.5984556  0.60617761 0.61389961 0.62162162 0.62934363\n",
      " 0.63706564 0.64478764 0.65250965 0.66023166 0.66795367 0.67567568\n",
      " 0.68339768 0.69111969 0.6988417  0.70656371 0.71428571 0.72200772\n",
      " 0.72972973 0.73745174 0.74517375 0.75289575 0.76061776 0.76833977\n",
      " 0.77606178 0.78378378 0.79150579 0.7992278  0.80694981 0.81467181\n",
      " 0.82239382 0.83011583 0.83783784 0.84555985 0.85328185 0.86100386\n",
      " 0.86872587 0.87644788 0.88416988 0.89189189 0.8996139  0.90733591\n",
      " 0.91505792 0.92277992 0.93050193 0.93822394 0.94594595 0.95366795\n",
      " 0.96138996 0.96911197 0.97683398 0.98455598 0.99227799 1.        ]\n",
      "[1.59761998 1.89201633 2.08501788 2.33294894 1.92089393 2.31242408\n",
      " 2.03910738 2.36134864 2.32687219 1.94452431 2.10145032 2.21684871\n",
      " 2.34035002 2.1911946  2.03034511 2.69319745 2.42648569 2.42023694\n",
      " 2.55180613 2.43551663 2.22699795 2.62109554 2.25543639 2.50395671\n",
      " 2.39356056 2.82573204 2.8530754  2.2970839  2.60352052 2.30145511\n",
      " 2.75985066 2.653023   2.95662653 2.9747153  2.31247261 2.62336754\n",
      " 2.33528623 2.91768045 3.01624388 2.64076227 2.91682413 2.92636853\n",
      " 3.06761445 2.96188375 2.55487598 3.29034144 3.22144556 2.83228466\n",
      " 3.13532005 3.25989339 2.84679741 3.2397889  3.08501223 2.85366078\n",
      " 3.45180164 3.05970037 3.13305719 2.78583656 3.04706999 3.23380514]\n"
     ]
    }
   ],
   "source": [
    "testX, testY = dsX[trainsamples:trainsamples + testsamples], dsY[trainsamples:trainsamples+testsamples]\n",
    "print(testX)\n",
    "print(testY)"
   ]
  },
  {
   "cell_type": "code",
   "execution_count": 17,
   "metadata": {},
   "outputs": [
    {
     "name": "stdout",
     "output_type": "stream",
     "text": [
      "<tensorflow.python.framework.ops.Graph object at 0x000001C2049DAF60>\n",
      "<tensorflow.python.framework.ops.Graph object at 0x000001C2049DAF60>\n"
     ]
    }
   ],
   "source": [
    "a=tf.constant(123)\n",
    "print(a.graph)\n",
    "print(tf.get_default_graph())"
   ]
  },
  {
   "cell_type": "code",
   "execution_count": 27,
   "metadata": {},
   "outputs": [
    {
     "data": {
      "image/png": "[encoded data removed]",
      "text/plain": [
       "<Figure size 432x288 with 1 Axes>"
      ]
     },
     "metadata": {
      "needs_background": "light"
     },
     "output_type": "display_data"
    }
   ],
   "source": [
    "\n",
    "# coding: utf-8\n",
    "\n",
    "import tensorflow as tf\n",
    "\n",
    "import numpy as np\n",
    "\n",
    "import matplotlib.pyplot as plt\n",
    "\n",
    "#使用numpy生成200个随机点\n",
    "\n",
    "x_data = np.linspace(-0.5,0.5,200)[:,np.newaxis]#因为网络输入是一个1个节点，测试数据有200个，所以是200行，1列的数据\n",
    "\n",
    "noise = np.random.normal(0,0.02,x_data.shape)\n",
    "\n",
    "y_data = np.square(x_data) + noise\n",
    "\n",
    "#定义两个placeholder\n",
    "\n",
    "x = tf.placeholder(tf.float32,[None,1])\n",
    "\n",
    "y = tf.placeholder(tf.float32,[None,1])\n",
    "\n",
    "#定义神经网络中间层\n",
    "\n",
    "Weights_L1 = tf.Variable(tf.random_normal([1,10]))\n",
    "\n",
    "biases_L1 = tf.Variable(tf.zeros([1,10]))\n",
    "\n",
    "Wx_plus_b_L1 = tf.matmul(x,Weights_L1) + biases_L1\n",
    "\n",
    "L1 = tf.nn.tanh(Wx_plus_b_L1)\n",
    "\n",
    "#定义神经网络输出层\n",
    "\n",
    "Weights_L2 = tf.Variable(tf.random_normal([10,1]))\n",
    "\n",
    "biases_L2 = tf.Variable(tf.zeros([1,1]))\n",
    "\n",
    "Wx_plus_b_L2 = tf.matmul(L1,Weights_L2) + biases_L2\n",
    "\n",
    "prediction = tf.nn.tanh(Wx_plus_b_L2)\n",
    "\n",
    "#二次代价函数\n",
    "\n",
    "loss = tf.reduce_mean(tf.square(y-prediction))\n",
    "\n",
    "#使用梯度下降法训练\n",
    "\n",
    "train_step = tf.train.GradientDescentOptimizer(0.1).minimize(loss)\n",
    "\n",
    "with tf.Session() as sess:\n",
    "\n",
    "    sess.run(tf.global_variables_initializer())\n",
    "    tf.train.write_graph(sess.graph, './graphs2','graph.pbtxt')\n",
    "    writer = tf.summary.FileWriter('./graphs2', sess.graph)\n",
    "\n",
    "    for _ in range(2000):\n",
    "\n",
    "        sess.run(train_step,feed_dict={x:x_data,y:y_data})\n",
    "\n",
    "    #获得预测值\n",
    "\n",
    "    prediction_value = sess.run(prediction,feed_dict={x:x_data})\n",
    "\n",
    "    #画图\n",
    "\n",
    "    plt.figure()\n",
    "\n",
    "    plt.scatter(x_data,y_data)\n",
    "\n",
    "    plt.plot(x_data,prediction_value,'r-',lw=5)\n",
    "\n",
    "    plt.show()\n"
   ]
  },
  {
   "cell_type": "code",
   "execution_count": null,
   "metadata": {},
   "outputs": [],
   "source": []
  }
 ],
 "metadata": {
  "kernelspec": {
   "display_name": "CpuTensorflow",
   "language": "python",
   "name": "cputf"
  },
  "language_info": {
   "codemirror_mode": {
    "name": "ipython",
    "version": 3
   },
   "file_extension": ".py",
   "mimetype": "text/x-python",
   "name": "python",
   "nbconvert_exporter": "python",
   "pygments_lexer": "ipython3",
   "version": "3.5.3"
  }
 },
 "nbformat": 4,
 "nbformat_minor": 2
}

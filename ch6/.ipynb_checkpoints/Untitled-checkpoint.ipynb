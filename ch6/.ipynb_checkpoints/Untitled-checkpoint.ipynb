{
 "cells": [
  {
   "cell_type": "code",
   "execution_count": null,
   "metadata": {},
   "outputs": [],
   "source": [
    "import matplotlib.pyplot as plt;  \n",
    "\n",
    "import tensorflow as tf;  \n",
    "\n",
    "import numpy as np;\n",
    "\n",
    " \n",
    "\n",
    "with tf.Session() as sess:\n",
    "\n",
    "    filename_queue = tf.train.string_input_producer(tf.train.match_filenames_once(\"data/test.gif\"))\n",
    "    reader = tf.WholeFileReader()\n",
    "    key, value = reader.read(filename_queue)\n",
    "    image_data=tf.image.decode_gif(value)\n",
    "    image_data = sess.run(tf.image.rgb_to_grayscale(image_data))\n",
    "    coord = tf.train.Coordinator()\n",
    "    tf.global_variables_initializer().run()\n",
    "    threads = tf.train.start_queue_runners(coord=coord)\n",
    "    print(image_data.shape)\n",
    "    plt.imshow(image_data[:,:,0],cmap ='gray')\n",
    "    plt.show()\n"
   ]
  },
  {
   "cell_type": "code",
   "execution_count": null,
   "metadata": {},
   "outputs": [],
   "source": []
  }
 ],
 "metadata": {
  "kernelspec": {
   "display_name": "CpuTensorflow",
   "language": "python",
   "name": "cputf"
  },
  "language_info": {
   "codemirror_mode": {
    "name": "ipython",
    "version": 3
   },
   "file_extension": ".py",
   "mimetype": "text/x-python",
   "name": "python",
   "nbconvert_exporter": "python",
   "pygments_lexer": "ipython3",
   "version": "3.5.3"
  }
 },
 "nbformat": 4,
 "nbformat_minor": 2
}
